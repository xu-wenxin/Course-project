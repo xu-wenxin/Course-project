{
 "cells": [
  {
   "cell_type": "code",
   "execution_count": null,
   "id": "34490b6b",
   "metadata": {},
   "outputs": [],
   "source": [
    "# import all the packages\n",
    "import matplotlib.pyplot as plt\n",
    "import pandas as pd\n",
    "import numpy as np\n",
    "import data as da"
   ]
  },
  {
   "cell_type": "code",
   "execution_count": null,
   "id": "037cd969",
   "metadata": {},
   "outputs": [],
   "source": [
    "data_pro = da.Data()\n",
    "df = data_pro.read_data()\n",
    "\n",
    "X, y = data_pro.split_x_y(df)\n",
    "X, X_train, X_test, y_train, y_test = data_pro.data_processing(X, y)"
   ]
  },
  {
   "cell_type": "markdown",
   "id": "SKGVNcJuD_an",
   "metadata": {
    "id": "SKGVNcJuD_an"
   },
   "source": [
    "# Stacking"
   ]
  },
  {
   "cell_type": "markdown",
   "id": "VcPqvR2HQxRN",
   "metadata": {
    "id": "VcPqvR2HQxRN"
   },
   "source": [
    "The basic regression algorithm we use is SVM, decision tree and multi-layer perceptron, and the final estimator is SVM"
   ]
  },
  {
   "cell_type": "code",
   "execution_count": 16,
   "id": "cITLohoVEFhK",
   "metadata": {
    "id": "cITLohoVEFhK"
   },
   "outputs": [],
   "source": [
    "from sklearn.svm import SVR\n",
    "from sklearn.tree import DecisionTreeRegressor\n",
    "from sklearn.neural_network import MLPRegressor\n",
    "\n",
    "svm_reg = SVR(C=0.1)\n",
    "dt_reg = DecisionTreeRegressor()\n",
    "mlp_reg = MLPRegressor(hidden_layer_sizes=(5, 2), alpha=0.01, learning_rate='invscaling')"
   ]
  },
  {
   "cell_type": "code",
   "execution_count": 17,
   "id": "Rg8TE4YOEI9F",
   "metadata": {
    "id": "Rg8TE4YOEI9F"
   },
   "outputs": [],
   "source": [
    "from sklearn.ensemble import StackingRegressor\n",
    "stacking_reg = StackingRegressor(\n",
    "    estimators=[('svm', SVR(C=0.1)), ('df', DecisionTreeRegressor()), ('mlp', MLPRegressor(hidden_layer_sizes=(5, 2), alpha=0.01, learning_rate='invscaling'))],\n",
    "          final_estimator=SVR(C=0.1))"
   ]
  },
  {
   "cell_type": "code",
   "execution_count": 18,
   "id": "-G_EYVS7ERAa",
   "metadata": {
    "colab": {
     "base_uri": "https://localhost:8080/"
    },
    "id": "-G_EYVS7ERAa",
    "outputId": "626409c0-5c36-4dd3-e944-de9f8d92449a"
   },
   "outputs": [
    {
     "name": "stderr",
     "output_type": "stream",
     "text": [
      "D:\\Anaconda\\lib\\site-packages\\sklearn\\neural_network\\_multilayer_perceptron.py:614: ConvergenceWarning: Stochastic Optimizer: Maximum iterations (200) reached and the optimization hasn't converged yet.\n",
      "  warnings.warn(\n",
      "D:\\Anaconda\\lib\\site-packages\\sklearn\\neural_network\\_multilayer_perceptron.py:614: ConvergenceWarning: Stochastic Optimizer: Maximum iterations (200) reached and the optimization hasn't converged yet.\n",
      "  warnings.warn(\n",
      "D:\\Anaconda\\lib\\site-packages\\sklearn\\neural_network\\_multilayer_perceptron.py:614: ConvergenceWarning: Stochastic Optimizer: Maximum iterations (200) reached and the optimization hasn't converged yet.\n",
      "  warnings.warn(\n",
      "D:\\Anaconda\\lib\\site-packages\\sklearn\\neural_network\\_multilayer_perceptron.py:614: ConvergenceWarning: Stochastic Optimizer: Maximum iterations (200) reached and the optimization hasn't converged yet.\n",
      "  warnings.warn(\n",
      "D:\\Anaconda\\lib\\site-packages\\sklearn\\neural_network\\_multilayer_perceptron.py:614: ConvergenceWarning: Stochastic Optimizer: Maximum iterations (200) reached and the optimization hasn't converged yet.\n",
      "  warnings.warn(\n"
     ]
    },
    {
     "data": {
      "text/plain": [
       "StackingRegressor(estimators=[('svm', SVR(C=0.1)),\n",
       "                              ('df', DecisionTreeRegressor()),\n",
       "                              ('mlp',\n",
       "                               MLPRegressor(alpha=0.01,\n",
       "                                            hidden_layer_sizes=(5, 2),\n",
       "                                            learning_rate='invscaling'))],\n",
       "                  final_estimator=SVR(C=0.1))"
      ]
     },
     "execution_count": 18,
     "metadata": {},
     "output_type": "execute_result"
    }
   ],
   "source": [
    "stacking_reg.fit(X_train, y_train)"
   ]
  },
  {
   "cell_type": "code",
   "execution_count": 19,
   "id": "9RbZFSTHERHP",
   "metadata": {
    "colab": {
     "base_uri": "https://localhost:8080/"
    },
    "id": "9RbZFSTHERHP",
    "outputId": "fab04385-c6d2-4ebf-d1de-0e087274179d"
   },
   "outputs": [],
   "source": [
    "for reg in (svm_reg, dt_reg, mlp_reg):\n",
    "    reg.fit(X_train, y_train)"
   ]
  },
  {
   "cell_type": "markdown",
   "id": "V_v6GAzcRE_-",
   "metadata": {
    "id": "V_v6GAzcRE_-"
   },
   "source": [
    "Through the experimental results, it can be found that the stacking method score surpasses the single model method"
   ]
  },
  {
   "cell_type": "code",
   "execution_count": 20,
   "id": "q8IdFnX0ERPB",
   "metadata": {
    "colab": {
     "base_uri": "https://localhost:8080/"
    },
    "id": "q8IdFnX0ERPB",
    "outputId": "38784ee2-cda0-42f1-eef1-f3b2f9b55fcd"
   },
   "outputs": [
    {
     "name": "stdout",
     "output_type": "stream",
     "text": [
      "SVR\n",
      "\ttrain: 0.08439733222078338\n",
      "\ttest: 0.07119659490158681\n",
      "DecisionTreeRegressor\n",
      "\ttrain: 1.0\n",
      "\ttest: -0.7478908944823859\n",
      "MLPRegressor\n",
      "\ttrain: 0.2964589603695563\n",
      "\ttest: 0.09997166636316057\n",
      "StackingRegressor\n",
      "\ttrain: 0.4759929681673639\n",
      "\ttest: 0.2153818864043613\n"
     ]
    }
   ],
   "source": [
    "model_names, test_acc = [], [] \n",
    "for reg in (svm_reg, dt_reg, mlp_reg, stacking_reg):\n",
    "    print(reg.__class__.__name__)\n",
    "    model_names.append(reg.__class__.__name__)\n",
    "    train_score = reg.score(X_train, y_train)\n",
    "    print('\\ttrain:', train_score)\n",
    "    test_score = reg.score(X_test, y_test)\n",
    "    print('\\ttest:', test_score)\n",
    "    test_acc.append(test_score)"
   ]
  },
  {
   "cell_type": "code",
   "execution_count": 21,
   "id": "ekZcAyAwx969",
   "metadata": {
    "colab": {
     "base_uri": "https://localhost:8080/",
     "height": 392
    },
    "id": "ekZcAyAwx969",
    "outputId": "8f5b9971-053f-4ab7-a0e0-86118ddc7189"
   },
   "outputs": [
    {
     "data": {
      "text/plain": [
       "<BarContainer object of 4 artists>"
      ]
     },
     "execution_count": 21,
     "metadata": {},
     "output_type": "execute_result"
    },
    {
     "data": {
      "image/png": "[encoded data removed]",
      "text/plain": [
       "<Figure size 864x432 with 1 Axes>"
      ]
     },
     "metadata": {
      "needs_background": "light"
     },
     "output_type": "display_data"
    }
   ],
   "source": [
    "plt.figure(figsize=(12, 6))\n",
    "plt.bar(model_names, test_acc)"
   ]
  },
  {
   "cell_type": "markdown",
   "id": "JH6XGqRT7VCe",
   "metadata": {
    "id": "JH6XGqRT7VCe"
   },
   "source": [
    "# Boosting (AdaBoost)"
   ]
  },
  {
   "cell_type": "code",
   "execution_count": 22,
   "id": "rHiQ-9Uu7ZGx",
   "metadata": {
    "id": "rHiQ-9Uu7ZGx"
   },
   "outputs": [],
   "source": [
    "from sklearn.ensemble import AdaBoostRegressor\n",
    "\n",
    "ada_reg = AdaBoostRegressor(\n",
    "    DecisionTreeRegressor(max_depth=1), n_estimators=200)"
   ]
  },
  {
   "cell_type": "code",
   "execution_count": 23,
   "id": "V88P1lUL7ZOF",
   "metadata": {
    "colab": {
     "base_uri": "https://localhost:8080/"
    },
    "id": "V88P1lUL7ZOF",
    "outputId": "eea3e8e1-f462-49a1-8fc6-af8693834200"
   },
   "outputs": [
    {
     "name": "stdout",
     "output_type": "stream",
     "text": [
      "AdaBoostRegressor (DecisionStumps)\n",
      "\ttrain: 0.1843863095846927\n",
      "\ttest: 0.14633797916549984\n"
     ]
    }
   ],
   "source": [
    "ada_reg.fit(X_train, y_train)\n",
    "\n",
    "print(ada_reg.__class__.__name__, '(DecisionStumps)')\n",
    "train_score = ada_reg.score(X_train, y_train)\n",
    "print('\\ttrain:', train_score)\n",
    "test_score = ada_reg.score(X_test, y_test)\n",
    "print('\\ttest:', test_score)"
   ]
  },
  {
   "cell_type": "markdown",
   "id": "fOFaLskGRgEz",
   "metadata": {
    "id": "fOFaLskGRgEz"
   },
   "source": [
    "Pick a suitable n_estimator parameter"
   ]
  },
  {
   "cell_type": "code",
   "execution_count": 24,
   "id": "smU70bZWNUGE",
   "metadata": {
    "colab": {
     "base_uri": "https://localhost:8080/"
    },
    "id": "smU70bZWNUGE",
    "outputId": "443e7333-78fa-4b5d-cf19-da7f7562e576"
   },
   "outputs": [
    {
     "name": "stdout",
     "output_type": "stream",
     "text": [
      "AdaBoostRegressor (DecisionStumps)\n",
      "\ttrain: 0.1757058507887751\n",
      "\ttest: 0.05121016130093847\n",
      "AdaBoostRegressor (DecisionStumps)\n",
      "\ttrain: 0.1708669880898086\n",
      "\ttest: 0.051524839478112705\n",
      "AdaBoostRegressor (DecisionStumps)\n",
      "\ttrain: 0.18431248190919303\n",
      "\ttest: 0.09220179766957382\n",
      "AdaBoostRegressor (DecisionStumps)\n",
      "\ttrain: 0.1849088152981997\n",
      "\ttest: 0.09766832555673166\n",
      "AdaBoostRegressor (DecisionStumps)\n",
      "\ttrain: 0.1809824220981907\n",
      "\ttest: 0.1371163511176826\n",
      "AdaBoostRegressor (DecisionStumps)\n",
      "\ttrain: 0.19186654183583618\n",
      "\ttest: 0.11903049547472522\n",
      "AdaBoostRegressor (DecisionStumps)\n",
      "\ttrain: 0.18763923704996566\n",
      "\ttest: 0.1492649385943331\n",
      "AdaBoostRegressor (DecisionStumps)\n",
      "\ttrain: 0.19358027026858005\n",
      "\ttest: 0.14837254815833123\n",
      "AdaBoostRegressor (DecisionStumps)\n",
      "\ttrain: 0.17943114334075427\n",
      "\ttest: 0.15149067595438492\n",
      "AdaBoostRegressor (DecisionStumps)\n",
      "\ttrain: 0.18216371084651295\n",
      "\ttest: 0.1489855097178343\n"
     ]
    }
   ],
   "source": [
    "n_list = list(range(1,11,1))\n",
    "test_accs = []\n",
    "for n in n_list:\n",
    "  ada_reg = AdaBoostRegressor(\n",
    "    DecisionTreeRegressor(max_depth=1), n_estimators=n)\n",
    "  ada_reg.fit(X_train, y_train)\n",
    "\n",
    "  print(ada_reg.__class__.__name__, '(DecisionStumps)')\n",
    "  train_score = ada_reg.score(X_train, y_train)\n",
    "  print('\\ttrain:', train_score)\n",
    "  test_score = ada_reg.score(X_test, y_test)\n",
    "  test_accs.append(test_score)\n",
    "  print('\\ttest:', test_score)"
   ]
  },
  {
   "cell_type": "code",
   "execution_count": 25,
   "id": "Q9fFlIRVQReK",
   "metadata": {
    "colab": {
     "base_uri": "https://localhost:8080/",
     "height": 282
    },
    "id": "Q9fFlIRVQReK",
    "outputId": "8435a388-b96d-440e-df6f-861a9406e7e4"
   },
   "outputs": [
    {
     "data": {
      "text/plain": [
       "[<matplotlib.lines.Line2D at 0x2007b54a4c0>]"
      ]
     },
     "execution_count": 25,
     "metadata": {},
     "output_type": "execute_result"
    },
    {
     "data": {
      "image/png": "[encoded data removed]",
      "text/plain": [
       "<Figure size 432x288 with 1 Axes>"
      ]
     },
     "metadata": {
      "needs_background": "light"
     },
     "output_type": "display_data"
    }
   ],
   "source": [
    "plt.plot(n_list,test_accs)"
   ]
  },
  {
   "cell_type": "code",
   "execution_count": 26,
   "id": "RPN-ldjyQlVA",
   "metadata": {
    "colab": {
     "base_uri": "https://localhost:8080/"
    },
    "id": "RPN-ldjyQlVA",
    "outputId": "5639c8b7-b902-41b0-c4e8-c4994dc5f76e"
   },
   "outputs": [
    {
     "data": {
      "text/plain": [
       "AdaBoostRegressor(base_estimator=DecisionTreeRegressor(max_depth=1),\n",
       "                  n_estimators=10)"
      ]
     },
     "execution_count": 26,
     "metadata": {},
     "output_type": "execute_result"
    }
   ],
   "source": [
    "best_ada_reg = AdaBoostRegressor(\n",
    "  DecisionTreeRegressor(max_depth = 1), n_estimators = n)\n",
    "best_ada_reg.fit(X_train, y_train)"
   ]
  },
  {
   "cell_type": "code",
   "execution_count": 27,
   "id": "w79BKfXJQNIX",
   "metadata": {
    "colab": {
     "base_uri": "https://localhost:8080/",
     "height": 856
    },
    "id": "w79BKfXJQNIX",
    "outputId": "25768589-4690-4d05-82ab-14fd46d08a5e"
   },
   "outputs": [
    {
     "data": {
      "image/png": "[encoded data removed]",
      "text/plain": [
       "<Figure size 864x864 with 12 Axes>"
      ]
     },
     "metadata": {
      "needs_background": "light"
     },
     "output_type": "display_data"
    }
   ],
   "source": [
    "from sklearn.inspection import plot_partial_dependence\n",
    "features = list(range(11))\n",
    "feature_names = list(df.columns.values)[:-1]\n",
    "display = plot_partial_dependence(\n",
    "    best_ada_reg,\n",
    "    X_train,\n",
    "    features,\n",
    "    feature_names = feature_names,\n",
    "    kind = \"individual\",\n",
    "    subsample = 50,\n",
    "    n_jobs = 3,\n",
    "    grid_resolution = 20,\n",
    "    random_state = 0,\n",
    ")\n",
    "display.figure_.suptitle(\n",
    "    \"Partial dependence of quality value on non-location features\\n\"\n",
    "\n",
    ")\n",
    "display.figure_.set_size_inches(12,12)"
   ]
  }
 ],
 "metadata": {
  "colab": {
   "collapsed_sections": [],
   "name": "decision_ensamble (1).ipynb",
   "provenance": []
  },
  "kernelspec": {
   "display_name": "Python 3 (ipykernel)",
   "language": "python",
   "name": "python3"
  },
  "language_info": {
   "codemirror_mode": {
    "name": "ipython",
    "version": 3
   },
   "file_extension": ".py",
   "mimetype": "text/x-python",
   "name": "python",
   "nbconvert_exporter": "python",
   "pygments_lexer": "ipython3",
   "version": "3.8.12"
  }
 },
 "nbformat": 4,
 "nbformat_minor": 5
}
