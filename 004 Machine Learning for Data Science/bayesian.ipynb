{
 "cells": [
  {
   "cell_type": "code",
   "execution_count": 1,
   "id": "c61a8cc5-b429-4787-a059-a5b2d3ce0cdb",
   "metadata": {},
   "outputs": [],
   "source": [
    "import pandas as pd\n",
    "import numpy as np\n",
    "from sklearn.model_selection import train_test_split\n",
    "from sklearn.preprocessing import StandardScaler, MinMaxScaler\n",
    "import seaborn as sns\n",
    "import data as da"
   ]
  },
  {
   "cell_type": "code",
   "execution_count": 2,
   "id": "3ff5a325-37df-4f81-a792-6c9e0fff938c",
   "metadata": {},
   "outputs": [],
   "source": [
    "import torch.distributions as dist\n",
    "import torch"
   ]
  },
  {
   "cell_type": "code",
   "execution_count": 2,
   "id": "9c6d5b95-29f9-43e2-b8bb-814204523bfa",
   "metadata": {},
   "outputs": [],
   "source": [
    "import matplotlib.pyplot as plt\n",
    "from sklearn.metrics import mean_absolute_error,mean_squared_error,r2_score,explained_variance_score"
   ]
  },
  {
   "cell_type": "code",
   "execution_count": 5,
   "id": "52624508-0a50-487d-8cd6-eb2f2ce13f8f",
   "metadata": {},
   "outputs": [],
   "source": [
    "# read data\n",
    "data_pro=da.Data()\n",
    "df=data_pro.read_data()\n",
    "\n",
    "x,y=data_pro.split_x_y(df)\n",
    "x,X_train,X_test,y_train,y_test=data_pro.data_processing(x,y,True)\n"
   ]
  },
  {
   "cell_type": "markdown",
   "id": "2166f958-07e4-4dd4-9a7f-f3b91ce2e8f4",
   "metadata": {},
   "source": [
    "## scikit learn naive bayesian classifier"
   ]
  },
  {
   "cell_type": "code",
   "execution_count": 6,
   "id": "e1df21a8-1e1e-4fef-8a61-c85a6ff047cb",
   "metadata": {},
   "outputs": [],
   "source": [
    "from sklearn.naive_bayes import GaussianNB\n",
    "# basic Naive bayesian from \n",
    "test_gaussian=GaussianNB()\n",
    "test_gaussian.fit(X_train,y_train.ravel())\n",
    "\n",
    "y_pred=test_gaussian.predict(X_train)\n",
    "\n"
   ]
  },
  {
   "cell_type": "code",
   "execution_count": 7,
   "id": "3481eae7-d7f3-435a-b57c-f132db524307",
   "metadata": {},
   "outputs": [
    {
     "data": {
      "text/plain": [
       "0.4418367346938776"
      ]
     },
     "execution_count": 7,
     "metadata": {},
     "output_type": "execute_result"
    }
   ],
   "source": [
    "test_gaussian.score(X_test,y_test)"
   ]
  },
  {
   "cell_type": "markdown",
   "id": "88815d1c-3b4e-4414-9994-3585ff3b31d0",
   "metadata": {},
   "source": [
    "the gaussian with naive bayesian from not make sense because it is a classifier"
   ]
  },
  {
   "cell_type": "markdown",
   "id": "a47491cf-83da-42d4-a3d6-14de2bdf39e4",
   "metadata": {},
   "source": [
    "## Implementing Bayesian Linear Regression and Classifier"
   ]
  },
  {
   "cell_type": "markdown",
   "id": "a78cff1c-e287-4037-adee-3190b0d261cf",
   "metadata": {},
   "source": [
    "suppose \n",
    "$$\\begin{align}\n",
    "y_i &\\sim \\mathrm{Normal}(\\beta^T\\phi(X_i), \\sigma^2)\\\\\n",
    "\\phi(X_i) &= [1,x_1,x_2,...,x_n]\\\\\n",
    "\\beta &\\sim \\mathrm{Normal}(0,\\alpha^{-1} I)\n",
    "\\end{align}$$\n",
    "\n",
    "Under this assumption, the logarithm of posterio distribution is going to be quite like the ridge regression's loss function\n",
    "\n",
    "$$\\begin{align}\n",
    "\\hat{\\beta}_{MAP}=\\mathop{\\arg\\max}\\limits_{\\beta}-\\frac{1}{2\\sigma^2}\\sum^N_{i=1}(y_i-\\beta^T\\phi(x_i))^2-\\frac{\\alpha}{2}\\beta^T\\beta\n",
    "\\end{align}$$\n",
    "\n",
    "we can use gradient descent to get the estimated value of $\\beta$.\n",
    " The value of $\\alpha$ and $\\sigma$ can be assumed as any value, it will certainly make the estimation of $\\beta$ different, but that is also how the ridge regression works. $\\lambda\\equiv\\alpha\\sigma^2$"
   ]
  },
  {
   "cell_type": "code",
   "execution_count": 8,
   "id": "979d3014-688d-43ce-a236-75cd59b25e1a",
   "metadata": {},
   "outputs": [
    {
     "data": {
      "text/plain": [
       "array([0, 2, 3, 4])"
      ]
     },
     "execution_count": 8,
     "metadata": {},
     "output_type": "execute_result"
    }
   ],
   "source": [
    "np.delete(np.arange(5),1)"
   ]
  },
  {
   "cell_type": "code",
   "execution_count": 11,
   "id": "80da46f6-768b-4aa5-9fd6-b7cbbca4e560",
   "metadata": {},
   "outputs": [],
   "source": [
    "#cross validation for bayesian estimator\n",
    "X_train_stacks=np.array_split(X_train,5,axis=0)\n",
    "y_train_stacks=np.array_split(y_train,5,axis=0)\n",
    "least_rmse=999\n",
    "\n",
    "valid_index=0\n",
    "validate_stack=X_train_stacks[valid_index]\n",
    "train_stacks=np.concatenate([X_train_stacks[i] for i in np.delete(np.arange(5),valid_index)])"
   ]
  },
  {
   "cell_type": "code",
   "execution_count": null,
   "id": "3e23b21d",
   "metadata": {},
   "outputs": [],
   "source": [
    "def phi(data):\n",
    "    # phi x in the formula\n",
    "    return np.stack([np.append(1,x) for x in data],0)\n",
    "\n",
    "def log_p(Phi,y,beta,alpha=torch.tensor(4),sigma=torch.tensor(.5)):\n",
    "    # the logarithm of posterio distribution for the p(y,beta|x,alpha,sigma)\n",
    "\n",
    "    N, D = Phi.shape\n",
    "\n",
    "    log_prior=dist.MultivariateNormal(torch.zeros(D),torch.eye(D)/alpha).log_prob(beta.float())\n",
    "    log_likelihood=dist.Normal(torch.matmul(torch.tensor(Phi).float(),beta.reshape(-1,1)),sigma**2).log_prob(torch.tensor(y).float()).sum()\n",
    "\n",
    "    return log_prior+log_likelihood"
   ]
  },
  {
   "cell_type": "code",
   "execution_count": null,
   "metadata": {},
   "outputs": [],
   "source": [
    "def mcmc_step(current_beta, Phi, y, proposal_std):\n",
    "    # use Normal as a proposal, it is the criterion with which beta is moving on the markov chain, nothing to do with the prior\n",
    "    proposal=dist.Normal(current_beta,proposal_std)\n",
    "    candidate_beta=proposal.sample()\n",
    "    \n",
    "    try:\n",
    "        p_new=log_p(Phi, y, current_beta, alpha, sigma)\n",
    "    except ValueError:\n",
    "        p_new=-torch.inf\n",
    "    \n",
    "    p_old=log_p(Phi, y, current_beta, alpha, sigma)\n",
    "    if p_new-p_old>torch.rand(1).log().item():\n",
    "#     if p_new-p_old>0:\n",
    "        return candidate_beta,1\n",
    "    else:\n",
    "        return current_beta,0\n",
    "\n",
    "def run_chain(Phi,y,init,num_steps, proposal_std):\n",
    "    beta_chain=[init]\n",
    "    accepted=0\n",
    "    for step in range(num_steps):\n",
    "        beta,accept=mcmc_step(beta_chain[-1],Phi, y, proposal_std)\n",
    "        beta_chain.append(beta)\n",
    "        accepted+=accept\n",
    "    return beta_chain,accepted\n",
    "    "
   ]
  },
  {
   "cell_type": "code",
   "execution_count": 23,
   "id": "c6a2a1a8-9b59-4b00-9eb9-45b2ce30df3a",
   "metadata": {},
   "outputs": [
    {
     "name": "stdout",
     "output_type": "stream",
     "text": [
      "sigma: 0.1\n",
      "alpha: 0.1\n",
      "sum of 5 fold rmse: 2.6995043929590326\n",
      "sigma: 0.1\n",
      "alpha: 0.25\n",
      "sum of 5 fold rmse: 2.6995043931242724\n",
      "sigma: 0.1\n",
      "alpha: 0.5\n",
      "sum of 5 fold rmse: 2.6995043937143786\n",
      "sigma: 0.1\n",
      "alpha: 1\n",
      "sum of 5 fold rmse: 2.699504396074529\n",
      "sigma: 0.1\n",
      "alpha: 2\n",
      "sum of 5 fold rmse: 2.69950440551292\n",
      "sigma: 0.1\n",
      "alpha: 4\n",
      "sum of 5 fold rmse: 2.6995044432488355\n",
      "sigma: 0.25\n",
      "alpha: 0.1\n",
      "sum of 5 fold rmse: 2.699504394156935\n",
      "sigma: 0.25\n",
      "alpha: 0.25\n",
      "sum of 5 fold rmse: 2.6995044006097264\n",
      "sigma: 0.25\n",
      "alpha: 0.5\n",
      "sum of 5 fold rmse: 2.699504423646612\n",
      "sigma: 0.25\n",
      "alpha: 1\n",
      "sum of 5 fold rmse: 2.6995045157269173\n",
      "sigma: 0.25\n",
      "alpha: 2\n",
      "sum of 5 fold rmse: 2.6995048835120397\n",
      "sigma: 0.25\n",
      "alpha: 4\n",
      "sum of 5 fold rmse: 2.699506350392536\n",
      "sigma: 0.5\n",
      "alpha: 0.1\n",
      "sum of 5 fold rmse: 2.6995044125902155\n",
      "sigma: 0.5\n",
      "alpha: 0.25\n",
      "sum of 5 fold rmse: 2.6995045157269173\n",
      "sigma: 0.5\n",
      "alpha: 0.5\n",
      "sum of 5 fold rmse: 2.6995048835120397\n",
      "sigma: 0.5\n",
      "alpha: 1\n",
      "sum of 5 fold rmse: 2.699506350392536\n",
      "sigma: 0.5\n",
      "alpha: 2\n",
      "sum of 5 fold rmse: 2.6995121842888725\n",
      "sigma: 0.5\n",
      "alpha: 4\n",
      "sum of 5 fold rmse: 2.6995352579428653\n",
      "sigma: 1\n",
      "alpha: 0.1\n",
      "sum of 5 fold rmse: 2.6995047070583453\n",
      "sigma: 1\n",
      "alpha: 0.25\n",
      "sum of 5 fold rmse: 2.699506350392536\n",
      "sigma: 1\n",
      "alpha: 0.5\n",
      "sum of 5 fold rmse: 2.6995121842888725\n",
      "sigma: 1\n",
      "alpha: 1\n",
      "sum of 5 fold rmse: 2.6995352579428653\n",
      "sigma: 1\n",
      "alpha: 2\n",
      "sum of 5 fold rmse: 2.6996255643754044\n",
      "sigma: 1\n",
      "alpha: 4\n",
      "sum of 5 fold rmse: 2.6999724302962336\n",
      "sigma: 2\n",
      "alpha: 0.1\n",
      "sum of 5 fold rmse: 2.6995093892051876\n",
      "sigma: 2\n",
      "alpha: 0.25\n",
      "sum of 5 fold rmse: 2.6995352579428653\n",
      "sigma: 2\n",
      "alpha: 0.5\n",
      "sum of 5 fold rmse: 2.6996255643754044\n",
      "sigma: 2\n",
      "alpha: 1\n",
      "sum of 5 fold rmse: 2.6999724302962336\n",
      "sigma: 2\n",
      "alpha: 2\n",
      "sum of 5 fold rmse: 2.701265266935046\n",
      "sigma: 2\n",
      "alpha: 4\n",
      "sum of 5 fold rmse: 2.7059040847373264\n",
      "sigma: 3\n",
      "alpha: 0.1\n",
      "sum of 5 fold rmse: 2.699529441619168\n",
      "sigma: 3\n",
      "alpha: 0.25\n",
      "sum of 5 fold rmse: 2.6996570551607637\n",
      "sigma: 3\n",
      "alpha: 0.5\n",
      "sum of 5 fold rmse: 2.7000918810535373\n",
      "sigma: 3\n",
      "alpha: 1\n",
      "sum of 5 fold rmse: 2.7017025686421254\n",
      "sigma: 3\n",
      "alpha: 2\n",
      "sum of 5 fold rmse: 2.7074463722169675\n",
      "sigma: 3\n",
      "alpha: 4\n",
      "sum of 5 fold rmse: 2.727472316056296\n",
      "sigma: 4\n",
      "alpha: 0.1\n",
      "sum of 5 fold rmse: 2.6995825171600183\n",
      "sigma: 4\n",
      "alpha: 0.25\n",
      "sum of 5 fold rmse: 2.6999724302962336\n",
      "sigma: 4\n",
      "alpha: 0.5\n",
      "sum of 5 fold rmse: 2.701265266935046\n",
      "sigma: 4\n",
      "alpha: 1\n",
      "sum of 5 fold rmse: 2.7059040847373264\n",
      "sigma: 4\n",
      "alpha: 2\n",
      "sum of 5 fold rmse: 2.7221019917717673\n",
      "sigma: 4\n",
      "alpha: 4\n",
      "sum of 5 fold rmse: 2.7790605262625565\n"
     ]
    }
   ],
   "source": [
    "for sigma in [0.1,0.25,0.5,1,2,3,4]:\n",
    "    for alpha in [0.1,0.25,0.5,1,2,4]:\n",
    "        lamda=alpha*sigma**2\n",
    "        rmse_sum=0\n",
    "        for valid_index in range(5):\n",
    "            validate_stack=X_train_stacks[valid_index]\n",
    "            train_stacks=np.concatenate([X_train_stacks[i] for i in np.delete(np.arange(5),valid_index)])\n",
    "            ytrain_stacks=np.concatenate([y_train_stacks[i] for i in np.delete(np.arange(5),valid_index)])\n",
    "            \n",
    "            Phi_train=phi(train_stacks)\n",
    "            beta_temp=np.linalg.inv(Phi_train.T @ Phi_train + lamda * np.eye(Phi_train.shape[1])) @ Phi_train.T @ ytrain_stacks\n",
    "\n",
    "            ytrain_pred_temp=Phi_train @ beta_temp\n",
    "\n",
    "            rmse_sum+=mean_squared_error(ytrain_pred_temp,ytrain_stacks)\n",
    "        if rmse_sum<least_rmse:\n",
    "            least_parameter={'alpha':alpha,'sigma':sigma}\n",
    "            least_rmse=rmse_sum\n",
    "        print('sigma: {}\\nalpha: {}\\nsum of 5 fold rmse: {}'.format(sigma,alpha,rmse_sum))\n"
   ]
  },
  {
   "cell_type": "code",
   "execution_count": 17,
   "id": "34b68415-02f1-4c32-85e8-0c4c35b7efc2",
   "metadata": {},
   "outputs": [
    {
     "data": {
      "text/plain": [
       "{'alpha': 0.1, 'sigma': 0.1}"
      ]
     },
     "execution_count": 17,
     "metadata": {},
     "output_type": "execute_result"
    }
   ],
   "source": [
    "least_parameter"
   ]
  },
  {
   "cell_type": "code",
   "execution_count": 24,
   "id": "bb3d6784-a14b-419c-89a7-dc7c7a456ca3",
   "metadata": {},
   "outputs": [
    {
     "name": "stdout",
     "output_type": "stream",
     "text": [
      "Train score of Bayesian  train set 0.2879431225091078\n",
      "Test score of Bayesian  test set 0.2552568967297322 \n",
      "\n",
      "Train mean error of Bayesian  train set 0.5729382877200409\n",
      "Test mean error of Bayesian  test set 0.6297007608008091 \n",
      "\n",
      "Train R2 of Bayesian  train set 0.2879431225091076\n",
      "Test R2 score of Bayesian  test set 0.251347676110137\n"
     ]
    }
   ],
   "source": [
    "Phi=phi(X_train)\n",
    "lamda=0\n",
    "beta1=np.linalg.inv(Phi.T @ Phi + lamda * np.eye(Phi.shape[1])) @ Phi.T @ y_train\n",
    "\n",
    "Phi_test=phi(X_test)\n",
    "y_train_pred=Phi @ beta1\n",
    "y_pred=Phi_test @ beta1\n",
    "\n",
    "import fit_result\n",
    "fit_result.score('Bayesian', y_train, y_train_pred,y_test, y_pred)"
   ]
  },
  {
   "cell_type": "code",
   "execution_count": 19,
   "id": "51824bf6-c51e-44db-a091-95479529d6ad",
   "metadata": {},
   "outputs": [
    {
     "data": {
      "image/png": "[encoded data removed]",
      "image/svg+xml": "<?xml version=\"1.0\" encoding=\"utf-8\" standalone=\"no\"?>\n<!DOCTYPE svg PUBLIC \"-//W3C//DTD SVG 1.1//EN\"\n  \"http://www.w3.org/Graphics/SVG/1.1/DTD/svg11.dtd\">\n<svg xmlns:xlink=\"http://www.w3.org/1999/xlink\" width=\"395.328125pt\" height=\"262.19625pt\" viewBox=\"0 0 395.328125 262.19625\" xmlns=\"http://www.w3.org/2000/svg\" version=\"1.1\">\n <metadata>\n  <rdf:RDF xmlns:dc=\"http://purl.org/dc/elements/1.1/\" xmlns:cc=\"http://creativecommons.org/ns#\" xmlns:rdf=\"http://www.w3.org/1999/02/22-rdf-syntax-ns#\">\n   <cc:Work>\n    <dc:type rdf:resource=\"http://purl.org/dc/dcmitype/StillImage\"/>\n    <dc:date>2022-03-27T23:09:48.220998</dc:date>\n    <dc:format>image/svg+xml</dc:format>\n    <dc:creator>\n     <cc:Agent>\n      <dc:title>Matplotlib v3.5.0, https://matplotlib.org/</dc:title>\n     </cc:Agent>\n    </dc:creator>\n   </cc:Work>\n  </rdf:RDF>\n </metadata>\n <defs>\n  <style type=\"text/css\">*{stroke-linejoin: round; stroke-linecap: butt}</style>\n </defs>\n <g id=\"figure_1\">\n  <g id=\"patch_1\">\n   <path d=\"M 0 262.19625 \nL 395.328125 262.19625 \nL 395.328125 0 \nL 0 0 \nL 0 262.19625 \nz\n\" style=\"fill: none\"/>\n  </g>\n  <g id=\"axes_1\">\n   <g id=\"patch_2\">\n    <path d=\"M 53.328125 224.64 \nL 388.128125 224.64 \nL 388.128125 7.2 \nL 53.328125 7.2 \nz\n\" style=\"fill: #ffffff\"/>\n   </g>\n   <g id=\"patch_3\">\n    <path d=\"M 68.546307 224.64 \nL 98.98267 224.64 \nL 98.98267 224.360532 \nL 68.546307 224.360532 \nz\n\" clip-path=\"url(#p1cd0eace64)\" style=\"fill: #1f77b4\"/>\n   </g>\n   <g id=\"patch_4\">\n    <path d=\"M 98.98267 224.64 \nL 129.419034 224.64 \nL 129.419034 223.94133 \nL 98.98267 223.94133 \nz\n\" clip-path=\"url(#p1cd0eace64)\" style=\"fill: #1f77b4\"/>\n   </g>\n   <g id=\"patch_5\">\n    <path d=\"M 129.419034 224.64 \nL 159.855398 224.64 \nL 159.855398 221.845321 \nL 129.419034 221.845321 \nz\n\" clip-path=\"url(#p1cd0eace64)\" style=\"fill: #1f77b4\"/>\n   </g>\n   <g id=\"patch_6\">\n    <path d=\"M 159.855398 224.64 \nL 190.291761 224.64 \nL 190.291761 207.033522 \nL 159.855398 207.033522 \nz\n\" clip-path=\"url(#p1cd0eace64)\" style=\"fill: #1f77b4\"/>\n   </g>\n   <g id=\"patch_7\">\n    <path d=\"M 190.291761 224.64 \nL 220.728125 224.64 \nL 220.728125 102.093326 \nL 190.291761 102.093326 \nz\n\" clip-path=\"url(#p1cd0eace64)\" style=\"fill: #1f77b4\"/>\n   </g>\n   <g id=\"patch_8\">\n    <path d=\"M 220.728125 224.64 \nL 251.164489 224.64 \nL 251.164489 17.554286 \nL 220.728125 17.554286 \nz\n\" clip-path=\"url(#p1cd0eace64)\" style=\"fill: #1f77b4\"/>\n   </g>\n   <g id=\"patch_9\">\n    <path d=\"M 251.164489 224.64 \nL 281.600852 224.64 \nL 281.600852 78.757756 \nL 251.164489 78.757756 \nz\n\" clip-path=\"url(#p1cd0eace64)\" style=\"fill: #1f77b4\"/>\n   </g>\n   <g id=\"patch_10\">\n    <path d=\"M 281.600852 224.64 \nL 312.037216 224.64 \nL 312.037216 183.697953 \nL 281.600852 183.697953 \nz\n\" clip-path=\"url(#p1cd0eace64)\" style=\"fill: #1f77b4\"/>\n   </g>\n   <g id=\"patch_11\">\n    <path d=\"M 312.037216 224.64 \nL 342.47358 224.64 \nL 342.47358 216.814899 \nL 312.037216 216.814899 \nz\n\" clip-path=\"url(#p1cd0eace64)\" style=\"fill: #1f77b4\"/>\n   </g>\n   <g id=\"patch_12\">\n    <path d=\"M 342.47358 224.64 \nL 372.909943 224.64 \nL 372.909943 222.823459 \nL 342.47358 222.823459 \nz\n\" clip-path=\"url(#p1cd0eace64)\" style=\"fill: #1f77b4\"/>\n   </g>\n   <g id=\"matplotlib.axis_1\">\n    <g id=\"xtick_1\">\n     <g id=\"line2d_1\">\n      <defs>\n       <path id=\"mc8bce48329\" d=\"M 0 0 \nL 0 3.5 \n\" style=\"stroke: #000000; stroke-width: 0.8\"/>\n      </defs>\n      <g>\n       <use xlink:href=\"#mc8bce48329\" x=\"69.644415\" y=\"224.64\" style=\"stroke: #000000; stroke-width: 0.8\"/>\n      </g>\n     </g>\n     <g id=\"text_1\">\n      <!-- −4 -->\n      <g transform=\"translate(62.273321 239.238437)scale(0.1 -0.1)\">\n       <defs>\n        <path id=\"DejaVuSans-2212\" d=\"M 678 2272 \nL 4684 2272 \nL 4684 1741 \nL 678 1741 \nL 678 2272 \nz\n\" transform=\"scale(0.015625)\"/>\n        <path id=\"DejaVuSans-34\" d=\"M 2419 4116 \nL 825 1625 \nL 2419 1625 \nL 2419 4116 \nz\nM 2253 4666 \nL 3047 4666 \nL 3047 1625 \nL 3713 1625 \nL 3713 1100 \nL 3047 1100 \nL 3047 0 \nL 2419 0 \nL 2419 1100 \nL 313 1100 \nL 313 1709 \nL 2253 4666 \nz\n\" transform=\"scale(0.015625)\"/>\n       </defs>\n       <use xlink:href=\"#DejaVuSans-2212\"/>\n       <use xlink:href=\"#DejaVuSans-34\" x=\"83.789062\"/>\n      </g>\n     </g>\n    </g>\n    <g id=\"xtick_2\">\n     <g id=\"line2d_2\">\n      <g>\n       <use xlink:href=\"#mc8bce48329\" x=\"112.507414\" y=\"224.64\" style=\"stroke: #000000; stroke-width: 0.8\"/>\n      </g>\n     </g>\n     <g id=\"text_2\">\n      <!-- −3 -->\n      <g transform=\"translate(105.136321 239.238437)scale(0.1 -0.1)\">\n       <defs>\n        <path id=\"DejaVuSans-33\" d=\"M 2597 2516 \nQ 3050 2419 3304 2112 \nQ 3559 1806 3559 1356 \nQ 3559 666 3084 287 \nQ 2609 -91 1734 -91 \nQ 1441 -91 1130 -33 \nQ 819 25 488 141 \nL 488 750 \nQ 750 597 1062 519 \nQ 1375 441 1716 441 \nQ 2309 441 2620 675 \nQ 2931 909 2931 1356 \nQ 2931 1769 2642 2001 \nQ 2353 2234 1838 2234 \nL 1294 2234 \nL 1294 2753 \nL 1863 2753 \nQ 2328 2753 2575 2939 \nQ 2822 3125 2822 3475 \nQ 2822 3834 2567 4026 \nQ 2313 4219 1838 4219 \nQ 1578 4219 1281 4162 \nQ 984 4106 628 3988 \nL 628 4550 \nQ 988 4650 1302 4700 \nQ 1616 4750 1894 4750 \nQ 2613 4750 3031 4423 \nQ 3450 4097 3450 3541 \nQ 3450 3153 3228 2886 \nQ 3006 2619 2597 2516 \nz\n\" transform=\"scale(0.015625)\"/>\n       </defs>\n       <use xlink:href=\"#DejaVuSans-2212\"/>\n       <use xlink:href=\"#DejaVuSans-33\" x=\"83.789062\"/>\n      </g>\n     </g>\n    </g>\n    <g id=\"xtick_3\">\n     <g id=\"line2d_3\">\n      <g>\n       <use xlink:href=\"#mc8bce48329\" x=\"155.370414\" y=\"224.64\" style=\"stroke: #000000; stroke-width: 0.8\"/>\n      </g>\n     </g>\n     <g id=\"text_3\">\n      <!-- −2 -->\n      <g transform=\"translate(147.999321 239.238437)scale(0.1 -0.1)\">\n       <defs>\n        <path id=\"DejaVuSans-32\" d=\"M 1228 531 \nL 3431 531 \nL 3431 0 \nL 469 0 \nL 469 531 \nQ 828 903 1448 1529 \nQ 2069 2156 2228 2338 \nQ 2531 2678 2651 2914 \nQ 2772 3150 2772 3378 \nQ 2772 3750 2511 3984 \nQ 2250 4219 1831 4219 \nQ 1534 4219 1204 4116 \nQ 875 4013 500 3803 \nL 500 4441 \nQ 881 4594 1212 4672 \nQ 1544 4750 1819 4750 \nQ 2544 4750 2975 4387 \nQ 3406 4025 3406 3419 \nQ 3406 3131 3298 2873 \nQ 3191 2616 2906 2266 \nQ 2828 2175 2409 1742 \nQ 1991 1309 1228 531 \nz\n\" transform=\"scale(0.015625)\"/>\n       </defs>\n       <use xlink:href=\"#DejaVuSans-2212\"/>\n       <use xlink:href=\"#DejaVuSans-32\" x=\"83.789062\"/>\n      </g>\n     </g>\n    </g>\n    <g id=\"xtick_4\">\n     <g id=\"line2d_4\">\n      <g>\n       <use xlink:href=\"#mc8bce48329\" x=\"198.233414\" y=\"224.64\" style=\"stroke: #000000; stroke-width: 0.8\"/>\n      </g>\n     </g>\n     <g id=\"text_4\">\n      <!-- −1 -->\n      <g transform=\"translate(190.862321 239.238437)scale(0.1 -0.1)\">\n       <defs>\n        <path id=\"DejaVuSans-31\" d=\"M 794 531 \nL 1825 531 \nL 1825 4091 \nL 703 3866 \nL 703 4441 \nL 1819 4666 \nL 2450 4666 \nL 2450 531 \nL 3481 531 \nL 3481 0 \nL 794 0 \nL 794 531 \nz\n\" transform=\"scale(0.015625)\"/>\n       </defs>\n       <use xlink:href=\"#DejaVuSans-2212\"/>\n       <use xlink:href=\"#DejaVuSans-31\" x=\"83.789062\"/>\n      </g>\n     </g>\n    </g>\n    <g id=\"xtick_5\">\n     <g id=\"line2d_5\">\n      <g>\n       <use xlink:href=\"#mc8bce48329\" x=\"241.096414\" y=\"224.64\" style=\"stroke: #000000; stroke-width: 0.8\"/>\n      </g>\n     </g>\n     <g id=\"text_5\">\n      <!-- 0 -->\n      <g transform=\"translate(237.915164 239.238437)scale(0.1 -0.1)\">\n       <defs>\n        <path id=\"DejaVuSans-30\" d=\"M 2034 4250 \nQ 1547 4250 1301 3770 \nQ 1056 3291 1056 2328 \nQ 1056 1369 1301 889 \nQ 1547 409 2034 409 \nQ 2525 409 2770 889 \nQ 3016 1369 3016 2328 \nQ 3016 3291 2770 3770 \nQ 2525 4250 2034 4250 \nz\nM 2034 4750 \nQ 2819 4750 3233 4129 \nQ 3647 3509 3647 2328 \nQ 3647 1150 3233 529 \nQ 2819 -91 2034 -91 \nQ 1250 -91 836 529 \nQ 422 1150 422 2328 \nQ 422 3509 836 4129 \nQ 1250 4750 2034 4750 \nz\n\" transform=\"scale(0.015625)\"/>\n       </defs>\n       <use xlink:href=\"#DejaVuSans-30\"/>\n      </g>\n     </g>\n    </g>\n    <g id=\"xtick_6\">\n     <g id=\"line2d_6\">\n      <g>\n       <use xlink:href=\"#mc8bce48329\" x=\"283.959414\" y=\"224.64\" style=\"stroke: #000000; stroke-width: 0.8\"/>\n      </g>\n     </g>\n     <g id=\"text_6\">\n      <!-- 1 -->\n      <g transform=\"translate(280.778164 239.238437)scale(0.1 -0.1)\">\n       <use xlink:href=\"#DejaVuSans-31\"/>\n      </g>\n     </g>\n    </g>\n    <g id=\"xtick_7\">\n     <g id=\"line2d_7\">\n      <g>\n       <use xlink:href=\"#mc8bce48329\" x=\"326.822414\" y=\"224.64\" style=\"stroke: #000000; stroke-width: 0.8\"/>\n      </g>\n     </g>\n     <g id=\"text_7\">\n      <!-- 2 -->\n      <g transform=\"translate(323.641164 239.238437)scale(0.1 -0.1)\">\n       <use xlink:href=\"#DejaVuSans-32\"/>\n      </g>\n     </g>\n    </g>\n    <g id=\"xtick_8\">\n     <g id=\"line2d_8\">\n      <g>\n       <use xlink:href=\"#mc8bce48329\" x=\"369.685414\" y=\"224.64\" style=\"stroke: #000000; stroke-width: 0.8\"/>\n      </g>\n     </g>\n     <g id=\"text_8\">\n      <!-- 3 -->\n      <g transform=\"translate(366.504164 239.238437)scale(0.1 -0.1)\">\n       <use xlink:href=\"#DejaVuSans-33\"/>\n      </g>\n     </g>\n    </g>\n    <g id=\"text_9\">\n     <!-- Residual -->\n     <g transform=\"translate(199.6125 252.916562)scale(0.1 -0.1)\">\n      <defs>\n       <path id=\"DejaVuSans-52\" d=\"M 2841 2188 \nQ 3044 2119 3236 1894 \nQ 3428 1669 3622 1275 \nL 4263 0 \nL 3584 0 \nL 2988 1197 \nQ 2756 1666 2539 1819 \nQ 2322 1972 1947 1972 \nL 1259 1972 \nL 1259 0 \nL 628 0 \nL 628 4666 \nL 2053 4666 \nQ 2853 4666 3247 4331 \nQ 3641 3997 3641 3322 \nQ 3641 2881 3436 2590 \nQ 3231 2300 2841 2188 \nz\nM 1259 4147 \nL 1259 2491 \nL 2053 2491 \nQ 2509 2491 2742 2702 \nQ 2975 2913 2975 3322 \nQ 2975 3731 2742 3939 \nQ 2509 4147 2053 4147 \nL 1259 4147 \nz\n\" transform=\"scale(0.015625)\"/>\n       <path id=\"DejaVuSans-65\" d=\"M 3597 1894 \nL 3597 1613 \nL 953 1613 \nQ 991 1019 1311 708 \nQ 1631 397 2203 397 \nQ 2534 397 2845 478 \nQ 3156 559 3463 722 \nL 3463 178 \nQ 3153 47 2828 -22 \nQ 2503 -91 2169 -91 \nQ 1331 -91 842 396 \nQ 353 884 353 1716 \nQ 353 2575 817 3079 \nQ 1281 3584 2069 3584 \nQ 2775 3584 3186 3129 \nQ 3597 2675 3597 1894 \nz\nM 3022 2063 \nQ 3016 2534 2758 2815 \nQ 2500 3097 2075 3097 \nQ 1594 3097 1305 2825 \nQ 1016 2553 972 2059 \nL 3022 2063 \nz\n\" transform=\"scale(0.015625)\"/>\n       <path id=\"DejaVuSans-73\" d=\"M 2834 3397 \nL 2834 2853 \nQ 2591 2978 2328 3040 \nQ 2066 3103 1784 3103 \nQ 1356 3103 1142 2972 \nQ 928 2841 928 2578 \nQ 928 2378 1081 2264 \nQ 1234 2150 1697 2047 \nL 1894 2003 \nQ 2506 1872 2764 1633 \nQ 3022 1394 3022 966 \nQ 3022 478 2636 193 \nQ 2250 -91 1575 -91 \nQ 1294 -91 989 -36 \nQ 684 19 347 128 \nL 347 722 \nQ 666 556 975 473 \nQ 1284 391 1588 391 \nQ 1994 391 2212 530 \nQ 2431 669 2431 922 \nQ 2431 1156 2273 1281 \nQ 2116 1406 1581 1522 \nL 1381 1569 \nQ 847 1681 609 1914 \nQ 372 2147 372 2553 \nQ 372 3047 722 3315 \nQ 1072 3584 1716 3584 \nQ 2034 3584 2315 3537 \nQ 2597 3491 2834 3397 \nz\n\" transform=\"scale(0.015625)\"/>\n       <path id=\"DejaVuSans-69\" d=\"M 603 3500 \nL 1178 3500 \nL 1178 0 \nL 603 0 \nL 603 3500 \nz\nM 603 4863 \nL 1178 4863 \nL 1178 4134 \nL 603 4134 \nL 603 4863 \nz\n\" transform=\"scale(0.015625)\"/>\n       <path id=\"DejaVuSans-64\" d=\"M 2906 2969 \nL 2906 4863 \nL 3481 4863 \nL 3481 0 \nL 2906 0 \nL 2906 525 \nQ 2725 213 2448 61 \nQ 2172 -91 1784 -91 \nQ 1150 -91 751 415 \nQ 353 922 353 1747 \nQ 353 2572 751 3078 \nQ 1150 3584 1784 3584 \nQ 2172 3584 2448 3432 \nQ 2725 3281 2906 2969 \nz\nM 947 1747 \nQ 947 1113 1208 752 \nQ 1469 391 1925 391 \nQ 2381 391 2643 752 \nQ 2906 1113 2906 1747 \nQ 2906 2381 2643 2742 \nQ 2381 3103 1925 3103 \nQ 1469 3103 1208 2742 \nQ 947 2381 947 1747 \nz\n\" transform=\"scale(0.015625)\"/>\n       <path id=\"DejaVuSans-75\" d=\"M 544 1381 \nL 544 3500 \nL 1119 3500 \nL 1119 1403 \nQ 1119 906 1312 657 \nQ 1506 409 1894 409 \nQ 2359 409 2629 706 \nQ 2900 1003 2900 1516 \nL 2900 3500 \nL 3475 3500 \nL 3475 0 \nL 2900 0 \nL 2900 538 \nQ 2691 219 2414 64 \nQ 2138 -91 1772 -91 \nQ 1169 -91 856 284 \nQ 544 659 544 1381 \nz\nM 1991 3584 \nL 1991 3584 \nz\n\" transform=\"scale(0.015625)\"/>\n       <path id=\"DejaVuSans-61\" d=\"M 2194 1759 \nQ 1497 1759 1228 1600 \nQ 959 1441 959 1056 \nQ 959 750 1161 570 \nQ 1363 391 1709 391 \nQ 2188 391 2477 730 \nQ 2766 1069 2766 1631 \nL 2766 1759 \nL 2194 1759 \nz\nM 3341 1997 \nL 3341 0 \nL 2766 0 \nL 2766 531 \nQ 2569 213 2275 61 \nQ 1981 -91 1556 -91 \nQ 1019 -91 701 211 \nQ 384 513 384 1019 \nQ 384 1609 779 1909 \nQ 1175 2209 1959 2209 \nL 2766 2209 \nL 2766 2266 \nQ 2766 2663 2505 2880 \nQ 2244 3097 1772 3097 \nQ 1472 3097 1187 3025 \nQ 903 2953 641 2809 \nL 641 3341 \nQ 956 3463 1253 3523 \nQ 1550 3584 1831 3584 \nQ 2591 3584 2966 3190 \nQ 3341 2797 3341 1997 \nz\n\" transform=\"scale(0.015625)\"/>\n       <path id=\"DejaVuSans-6c\" d=\"M 603 4863 \nL 1178 4863 \nL 1178 0 \nL 603 0 \nL 603 4863 \nz\n\" transform=\"scale(0.015625)\"/>\n      </defs>\n      <use xlink:href=\"#DejaVuSans-52\"/>\n      <use xlink:href=\"#DejaVuSans-65\" x=\"64.982422\"/>\n      <use xlink:href=\"#DejaVuSans-73\" x=\"126.505859\"/>\n      <use xlink:href=\"#DejaVuSans-69\" x=\"178.605469\"/>\n      <use xlink:href=\"#DejaVuSans-64\" x=\"206.388672\"/>\n      <use xlink:href=\"#DejaVuSans-75\" x=\"269.865234\"/>\n      <use xlink:href=\"#DejaVuSans-61\" x=\"333.244141\"/>\n      <use xlink:href=\"#DejaVuSans-6c\" x=\"394.523438\"/>\n     </g>\n    </g>\n   </g>\n   <g id=\"matplotlib.axis_2\">\n    <g id=\"ytick_1\">\n     <g id=\"line2d_9\">\n      <defs>\n       <path id=\"m5f1c9f07ba\" d=\"M 0 0 \nL -3.5 0 \n\" style=\"stroke: #000000; stroke-width: 0.8\"/>\n      </defs>\n      <g>\n       <use xlink:href=\"#m5f1c9f07ba\" x=\"53.328125\" y=\"224.64\" style=\"stroke: #000000; stroke-width: 0.8\"/>\n      </g>\n     </g>\n     <g id=\"text_10\">\n      <!-- 0 -->\n      <g transform=\"translate(39.965625 228.439219)scale(0.1 -0.1)\">\n       <use xlink:href=\"#DejaVuSans-30\"/>\n      </g>\n     </g>\n    </g>\n    <g id=\"ytick_2\">\n     <g id=\"line2d_10\">\n      <g>\n       <use xlink:href=\"#m5f1c9f07ba\" x=\"53.328125\" y=\"196.69321\" style=\"stroke: #000000; stroke-width: 0.8\"/>\n      </g>\n     </g>\n     <g id=\"text_11\">\n      <!-- 200 -->\n      <g transform=\"translate(27.240625 200.492429)scale(0.1 -0.1)\">\n       <use xlink:href=\"#DejaVuSans-32\"/>\n       <use xlink:href=\"#DejaVuSans-30\" x=\"63.623047\"/>\n       <use xlink:href=\"#DejaVuSans-30\" x=\"127.246094\"/>\n      </g>\n     </g>\n    </g>\n    <g id=\"ytick_3\">\n     <g id=\"line2d_11\">\n      <g>\n       <use xlink:href=\"#m5f1c9f07ba\" x=\"53.328125\" y=\"168.74642\" style=\"stroke: #000000; stroke-width: 0.8\"/>\n      </g>\n     </g>\n     <g id=\"text_12\">\n      <!-- 400 -->\n      <g transform=\"translate(27.240625 172.545639)scale(0.1 -0.1)\">\n       <use xlink:href=\"#DejaVuSans-34\"/>\n       <use xlink:href=\"#DejaVuSans-30\" x=\"63.623047\"/>\n       <use xlink:href=\"#DejaVuSans-30\" x=\"127.246094\"/>\n      </g>\n     </g>\n    </g>\n    <g id=\"ytick_4\">\n     <g id=\"line2d_12\">\n      <g>\n       <use xlink:href=\"#m5f1c9f07ba\" x=\"53.328125\" y=\"140.79963\" style=\"stroke: #000000; stroke-width: 0.8\"/>\n      </g>\n     </g>\n     <g id=\"text_13\">\n      <!-- 600 -->\n      <g transform=\"translate(27.240625 144.598849)scale(0.1 -0.1)\">\n       <defs>\n        <path id=\"DejaVuSans-36\" d=\"M 2113 2584 \nQ 1688 2584 1439 2293 \nQ 1191 2003 1191 1497 \nQ 1191 994 1439 701 \nQ 1688 409 2113 409 \nQ 2538 409 2786 701 \nQ 3034 994 3034 1497 \nQ 3034 2003 2786 2293 \nQ 2538 2584 2113 2584 \nz\nM 3366 4563 \nL 3366 3988 \nQ 3128 4100 2886 4159 \nQ 2644 4219 2406 4219 \nQ 1781 4219 1451 3797 \nQ 1122 3375 1075 2522 \nQ 1259 2794 1537 2939 \nQ 1816 3084 2150 3084 \nQ 2853 3084 3261 2657 \nQ 3669 2231 3669 1497 \nQ 3669 778 3244 343 \nQ 2819 -91 2113 -91 \nQ 1303 -91 875 529 \nQ 447 1150 447 2328 \nQ 447 3434 972 4092 \nQ 1497 4750 2381 4750 \nQ 2619 4750 2861 4703 \nQ 3103 4656 3366 4563 \nz\n\" transform=\"scale(0.015625)\"/>\n       </defs>\n       <use xlink:href=\"#DejaVuSans-36\"/>\n       <use xlink:href=\"#DejaVuSans-30\" x=\"63.623047\"/>\n       <use xlink:href=\"#DejaVuSans-30\" x=\"127.246094\"/>\n      </g>\n     </g>\n    </g>\n    <g id=\"ytick_5\">\n     <g id=\"line2d_13\">\n      <g>\n       <use xlink:href=\"#m5f1c9f07ba\" x=\"53.328125\" y=\"112.85284\" style=\"stroke: #000000; stroke-width: 0.8\"/>\n      </g>\n     </g>\n     <g id=\"text_14\">\n      <!-- 800 -->\n      <g transform=\"translate(27.240625 116.652059)scale(0.1 -0.1)\">\n       <defs>\n        <path id=\"DejaVuSans-38\" d=\"M 2034 2216 \nQ 1584 2216 1326 1975 \nQ 1069 1734 1069 1313 \nQ 1069 891 1326 650 \nQ 1584 409 2034 409 \nQ 2484 409 2743 651 \nQ 3003 894 3003 1313 \nQ 3003 1734 2745 1975 \nQ 2488 2216 2034 2216 \nz\nM 1403 2484 \nQ 997 2584 770 2862 \nQ 544 3141 544 3541 \nQ 544 4100 942 4425 \nQ 1341 4750 2034 4750 \nQ 2731 4750 3128 4425 \nQ 3525 4100 3525 3541 \nQ 3525 3141 3298 2862 \nQ 3072 2584 2669 2484 \nQ 3125 2378 3379 2068 \nQ 3634 1759 3634 1313 \nQ 3634 634 3220 271 \nQ 2806 -91 2034 -91 \nQ 1263 -91 848 271 \nQ 434 634 434 1313 \nQ 434 1759 690 2068 \nQ 947 2378 1403 2484 \nz\nM 1172 3481 \nQ 1172 3119 1398 2916 \nQ 1625 2713 2034 2713 \nQ 2441 2713 2670 2916 \nQ 2900 3119 2900 3481 \nQ 2900 3844 2670 4047 \nQ 2441 4250 2034 4250 \nQ 1625 4250 1398 4047 \nQ 1172 3844 1172 3481 \nz\n\" transform=\"scale(0.015625)\"/>\n       </defs>\n       <use xlink:href=\"#DejaVuSans-38\"/>\n       <use xlink:href=\"#DejaVuSans-30\" x=\"63.623047\"/>\n       <use xlink:href=\"#DejaVuSans-30\" x=\"127.246094\"/>\n      </g>\n     </g>\n    </g>\n    <g id=\"ytick_6\">\n     <g id=\"line2d_14\">\n      <g>\n       <use xlink:href=\"#m5f1c9f07ba\" x=\"53.328125\" y=\"84.90605\" style=\"stroke: #000000; stroke-width: 0.8\"/>\n      </g>\n     </g>\n     <g id=\"text_15\">\n      <!-- 1000 -->\n      <g transform=\"translate(20.878125 88.705268)scale(0.1 -0.1)\">\n       <use xlink:href=\"#DejaVuSans-31\"/>\n       <use xlink:href=\"#DejaVuSans-30\" x=\"63.623047\"/>\n       <use xlink:href=\"#DejaVuSans-30\" x=\"127.246094\"/>\n       <use xlink:href=\"#DejaVuSans-30\" x=\"190.869141\"/>\n      </g>\n     </g>\n    </g>\n    <g id=\"ytick_7\">\n     <g id=\"line2d_15\">\n      <g>\n       <use xlink:href=\"#m5f1c9f07ba\" x=\"53.328125\" y=\"56.95926\" style=\"stroke: #000000; stroke-width: 0.8\"/>\n      </g>\n     </g>\n     <g id=\"text_16\">\n      <!-- 1200 -->\n      <g transform=\"translate(20.878125 60.758478)scale(0.1 -0.1)\">\n       <use xlink:href=\"#DejaVuSans-31\"/>\n       <use xlink:href=\"#DejaVuSans-32\" x=\"63.623047\"/>\n       <use xlink:href=\"#DejaVuSans-30\" x=\"127.246094\"/>\n       <use xlink:href=\"#DejaVuSans-30\" x=\"190.869141\"/>\n      </g>\n     </g>\n    </g>\n    <g id=\"ytick_8\">\n     <g id=\"line2d_16\">\n      <g>\n       <use xlink:href=\"#m5f1c9f07ba\" x=\"53.328125\" y=\"29.01247\" style=\"stroke: #000000; stroke-width: 0.8\"/>\n      </g>\n     </g>\n     <g id=\"text_17\">\n      <!-- 1400 -->\n      <g transform=\"translate(20.878125 32.811688)scale(0.1 -0.1)\">\n       <use xlink:href=\"#DejaVuSans-31\"/>\n       <use xlink:href=\"#DejaVuSans-34\" x=\"63.623047\"/>\n       <use xlink:href=\"#DejaVuSans-30\" x=\"127.246094\"/>\n       <use xlink:href=\"#DejaVuSans-30\" x=\"190.869141\"/>\n      </g>\n     </g>\n    </g>\n    <g id=\"text_18\">\n     <!-- Count -->\n     <g transform=\"translate(14.798438 130.768437)rotate(-90)scale(0.1 -0.1)\">\n      <defs>\n       <path id=\"DejaVuSans-43\" d=\"M 4122 4306 \nL 4122 3641 \nQ 3803 3938 3442 4084 \nQ 3081 4231 2675 4231 \nQ 1875 4231 1450 3742 \nQ 1025 3253 1025 2328 \nQ 1025 1406 1450 917 \nQ 1875 428 2675 428 \nQ 3081 428 3442 575 \nQ 3803 722 4122 1019 \nL 4122 359 \nQ 3791 134 3420 21 \nQ 3050 -91 2638 -91 \nQ 1578 -91 968 557 \nQ 359 1206 359 2328 \nQ 359 3453 968 4101 \nQ 1578 4750 2638 4750 \nQ 3056 4750 3426 4639 \nQ 3797 4528 4122 4306 \nz\n\" transform=\"scale(0.015625)\"/>\n       <path id=\"DejaVuSans-6f\" d=\"M 1959 3097 \nQ 1497 3097 1228 2736 \nQ 959 2375 959 1747 \nQ 959 1119 1226 758 \nQ 1494 397 1959 397 \nQ 2419 397 2687 759 \nQ 2956 1122 2956 1747 \nQ 2956 2369 2687 2733 \nQ 2419 3097 1959 3097 \nz\nM 1959 3584 \nQ 2709 3584 3137 3096 \nQ 3566 2609 3566 1747 \nQ 3566 888 3137 398 \nQ 2709 -91 1959 -91 \nQ 1206 -91 779 398 \nQ 353 888 353 1747 \nQ 353 2609 779 3096 \nQ 1206 3584 1959 3584 \nz\n\" transform=\"scale(0.015625)\"/>\n       <path id=\"DejaVuSans-6e\" d=\"M 3513 2113 \nL 3513 0 \nL 2938 0 \nL 2938 2094 \nQ 2938 2591 2744 2837 \nQ 2550 3084 2163 3084 \nQ 1697 3084 1428 2787 \nQ 1159 2491 1159 1978 \nL 1159 0 \nL 581 0 \nL 581 3500 \nL 1159 3500 \nL 1159 2956 \nQ 1366 3272 1645 3428 \nQ 1925 3584 2291 3584 \nQ 2894 3584 3203 3211 \nQ 3513 2838 3513 2113 \nz\n\" transform=\"scale(0.015625)\"/>\n       <path id=\"DejaVuSans-74\" d=\"M 1172 4494 \nL 1172 3500 \nL 2356 3500 \nL 2356 3053 \nL 1172 3053 \nL 1172 1153 \nQ 1172 725 1289 603 \nQ 1406 481 1766 481 \nL 2356 481 \nL 2356 0 \nL 1766 0 \nQ 1100 0 847 248 \nQ 594 497 594 1153 \nL 594 3053 \nL 172 3053 \nL 172 3500 \nL 594 3500 \nL 594 4494 \nL 1172 4494 \nz\n\" transform=\"scale(0.015625)\"/>\n      </defs>\n      <use xlink:href=\"#DejaVuSans-43\"/>\n      <use xlink:href=\"#DejaVuSans-6f\" x=\"69.824219\"/>\n      <use xlink:href=\"#DejaVuSans-75\" x=\"131.005859\"/>\n      <use xlink:href=\"#DejaVuSans-6e\" x=\"194.384766\"/>\n      <use xlink:href=\"#DejaVuSans-74\" x=\"257.763672\"/>\n     </g>\n    </g>\n   </g>\n   <g id=\"patch_13\">\n    <path d=\"M 53.328125 224.64 \nL 53.328125 7.2 \n\" style=\"fill: none; stroke: #000000; stroke-width: 0.8; stroke-linejoin: miter; stroke-linecap: square\"/>\n   </g>\n   <g id=\"patch_14\">\n    <path d=\"M 388.128125 224.64 \nL 388.128125 7.2 \n\" style=\"fill: none; stroke: #000000; stroke-width: 0.8; stroke-linejoin: miter; stroke-linecap: square\"/>\n   </g>\n   <g id=\"patch_15\">\n    <path d=\"M 53.328125 224.64 \nL 388.128125 224.64 \n\" style=\"fill: none; stroke: #000000; stroke-width: 0.8; stroke-linejoin: miter; stroke-linecap: square\"/>\n   </g>\n   <g id=\"patch_16\">\n    <path d=\"M 53.328125 7.2 \nL 388.128125 7.2 \n\" style=\"fill: none; stroke: #000000; stroke-width: 0.8; stroke-linejoin: miter; stroke-linecap: square\"/>\n   </g>\n  </g>\n </g>\n <defs>\n  <clipPath id=\"p1cd0eace64\">\n   <rect x=\"53.328125\" y=\"7.2\" width=\"334.8\" height=\"217.44\"/>\n  </clipPath>\n </defs>\n</svg>\n",
      "text/plain": [
       "<Figure size 432x288 with 1 Axes>"
      ]
     },
     "metadata": {
      "needs_background": "light"
     },
     "output_type": "display_data"
    }
   ],
   "source": [
    "plt.hist((y_train-y_train_pred))\n",
    "plt.xlabel('Residual')\n",
    "plt.ylabel('Count')\n",
    "plt.show()"
   ]
  },
  {
   "cell_type": "markdown",
   "id": "75333b22-9b37-44de-a9a4-482ad33d5b40",
   "metadata": {},
   "source": [
    "## Fully Bayesian Treatment"
   ]
  },
  {
   "cell_type": "markdown",
   "id": "fdcd8ea1-b3b1-4ad7-ba9b-f0e7af9f7c70",
   "metadata": {},
   "source": [
    "but what if the posterio(q) is not a regular distribution that we can't use formula with arguments to express them?\n",
    "\n",
    "we introduce MCMC(Markov Chain Monte Carlo) to reconstruct(approximate) the distribution "
   ]
  },
  {
   "cell_type": "code",
   "execution_count": 28,
   "id": "c5a8825b-7d19-4371-ac0b-20d1888aa806",
   "metadata": {},
   "outputs": [],
   "source": [
    "beta_init=torch.randn(12)\n",
    "num_steps=5000\n",
    "proposal_std=0.05\n",
    "Phi=phi(X_train)"
   ]
  },
  {
   "cell_type": "markdown",
   "id": "73e7deda-d8ed-4b40-9300-915499569317",
   "metadata": {},
   "source": [
    "the biggest problems right now are:\n",
    "(1) the bayesian method told in the class are for classification, not for \n",
    "(2) do you consider Maximumize a Posterio as a fully bayesian treatment. In other word, do we need sample from posterio or just use MAP estimation as the final value"
   ]
  },
  {
   "cell_type": "code",
   "execution_count": 29,
   "id": "c6735c82-3319-4cb5-8126-3d3689c35dfa",
   "metadata": {
    "tags": []
   },
   "outputs": [],
   "source": [
    "beta_chain, accept=run_chain(Phi,y_train,beta_init,num_steps,proposal_std)"
   ]
  },
  {
   "cell_type": "code",
   "execution_count": 30,
   "id": "da8e1909-bec4-42e0-bccc-f28aee219389",
   "metadata": {},
   "outputs": [
    {
     "data": {
      "text/plain": [
       "[tensor([-1.7667, -1.1366, -1.0208,  0.0554, -1.8322,  6.4369, -3.0996, -1.6470,\n",
       "         -3.9477, -0.4548, -0.5101, -2.8156]),\n",
       " tensor([-1.7505, -1.1542, -1.0191,  0.0629, -1.8119,  6.4976, -3.0722, -1.5542,\n",
       "         -3.7974, -0.4989, -0.5794, -2.9019]),\n",
       " tensor([-1.7356, -1.1475, -1.1617,  0.0394, -1.7812,  6.4786, -3.0985, -1.5371,\n",
       "         -3.7405, -0.4754, -0.6597, -2.9203]),\n",
       " tensor([-1.8076, -1.1821, -1.1684,  0.0854, -1.7819,  6.4892, -3.1742, -1.5490,\n",
       "         -3.6896, -0.4320, -0.6600, -2.9695]),\n",
       " tensor([-1.8434, -1.1964, -1.0997, -0.0203, -1.7277,  6.4664, -3.2377, -1.5443,\n",
       "         -3.5963, -0.4153, -0.6504, -2.9867])]"
      ]
     },
     "execution_count": 30,
     "metadata": {},
     "output_type": "execute_result"
    }
   ],
   "source": [
    "beta_chain[-5:]"
   ]
  },
  {
   "cell_type": "code",
   "execution_count": 31,
   "id": "b53037d2-42ed-4dff-9c38-905a82b8e2b9",
   "metadata": {},
   "outputs": [
    {
     "data": {
      "text/plain": [
       "tensor([-1.0437, -0.2140, -1.3093,  0.1846, -0.7005,  1.0975, -1.4201,  1.1960,\n",
       "        -0.7701,  0.0459,  0.5124,  0.5212])"
      ]
     },
     "execution_count": 31,
     "metadata": {},
     "output_type": "execute_result"
    }
   ],
   "source": [
    "beta_chain[0]"
   ]
  },
  {
   "cell_type": "code",
   "execution_count": 32,
   "id": "414bf0ae-d343-4d33-812d-e8b40be4f6d4",
   "metadata": {},
   "outputs": [
    {
     "data": {
      "text/plain": [
       "5000"
      ]
     },
     "execution_count": 32,
     "metadata": {},
     "output_type": "execute_result"
    }
   ],
   "source": [
    "accept"
   ]
  },
  {
   "cell_type": "code",
   "execution_count": 33,
   "id": "5e1ddc9a-9771-48cd-bd96-3952cfbee95c",
   "metadata": {},
   "outputs": [
    {
     "data": {
      "text/plain": [
       "array([[ 1.36298438e+02],\n",
       "       [ 5.06457657e-02],\n",
       "       [-1.96341559e+00],\n",
       "       [-9.16375411e-03],\n",
       "       [ 7.69603869e-02],\n",
       "       [-6.04146573e-01],\n",
       "       [ 3.16302854e-03],\n",
       "       [-4.93885998e-05],\n",
       "       [-1.36198618e+02],\n",
       "       [ 6.71592833e-01],\n",
       "       [ 5.59628712e-01],\n",
       "       [ 2.07470147e-01]])"
      ]
     },
     "execution_count": 33,
     "metadata": {},
     "output_type": "execute_result"
    }
   ],
   "source": [
    "beta1"
   ]
  },
  {
   "cell_type": "code",
   "execution_count": 34,
   "id": "28257d4c-5a29-4d24-899e-cc62209f6e4e",
   "metadata": {},
   "outputs": [],
   "source": [
    "beta2=beta_chain[-1].numpy().reshape(-1,1)"
   ]
  },
  {
   "cell_type": "code",
   "execution_count": 36,
   "id": "da2644e7-c4ff-4477-a87a-fcdccc9b895d",
   "metadata": {},
   "outputs": [
    {
     "data": {
      "text/plain": [
       "array([[6.21588132],\n",
       "       [6.51218672],\n",
       "       [5.56793595],\n",
       "       ...,\n",
       "       [5.89100532],\n",
       "       [6.21888268],\n",
       "       [5.53883895]])"
      ]
     },
     "execution_count": 36,
     "metadata": {},
     "output_type": "execute_result"
    }
   ],
   "source": [
    "Phi @ beta_temp"
   ]
  },
  {
   "cell_type": "code",
   "execution_count": 37,
   "id": "5524dd17-5ba8-4635-b595-93bee09774fe",
   "metadata": {},
   "outputs": [
    {
     "data": {
      "text/plain": [
       "array([[ 1.36298438e+02],\n",
       "       [ 5.06457657e-02],\n",
       "       [-1.96341559e+00],\n",
       "       [-9.16375411e-03],\n",
       "       [ 7.69603869e-02],\n",
       "       [-6.04146573e-01],\n",
       "       [ 3.16302854e-03],\n",
       "       [-4.93885998e-05],\n",
       "       [-1.36198618e+02],\n",
       "       [ 6.71592833e-01],\n",
       "       [ 5.59628712e-01],\n",
       "       [ 2.07470147e-01]])"
      ]
     },
     "execution_count": 37,
     "metadata": {},
     "output_type": "execute_result"
    }
   ],
   "source": [
    "beta1"
   ]
  }
 ],
 "metadata": {
  "kernelspec": {
   "display_name": "Python 3 (ipykernel)",
   "language": "python",
   "name": "python3"
  },
  "language_info": {
   "codemirror_mode": {
    "name": "ipython",
    "version": 3
   },
   "file_extension": ".py",
   "mimetype": "text/x-python",
   "name": "python",
   "nbconvert_exporter": "python",
   "pygments_lexer": "ipython3",
   "version": "3.8.12"
  }
 },
 "nbformat": 4,
 "nbformat_minor": 5
}
