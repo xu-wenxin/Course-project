{
 "cells": [
  {
   "cell_type": "code",
   "execution_count": 1,
   "metadata": {},
   "outputs": [],
   "source": [
    "import data as da"
   ]
  },
  {
   "cell_type": "code",
   "execution_count": 2,
   "metadata": {},
   "outputs": [
    {
     "name": "stdout",
     "output_type": "stream",
     "text": [
      "确保inequality-white.csv在同一文件夹\n",
      "training set shape:  (3918, 11)\n",
      "test set shape:      (980, 11)\n"
     ]
    }
   ],
   "source": [
    "\"\"\" 读取数据集并打乱并切分为训练集和测试集，\n",
    "使用z-socre进行归一化处理，\n",
    "使用PCA降维升维进行噪音处理\"\"\"\n",
    "data_pro=da.Data()\n",
    "data=data_pro.read_data()\n",
    "xs,ys=data_pro.split_x_y(data)\n",
    "xs_trans, xs_pca = data_pro.data_noise(10,xs)\n",
    "xs, xs_train, xs_test, ys_train, ys_test = data_pro.data_processing(xs_pca,ys)\n",
    "\n",
    "print('training set shape: ',xs_train.shape)\n",
    "print('test set shape:     ', xs_test.shape)"
   ]
  },
  {
   "cell_type": "code",
   "execution_count": 12,
   "metadata": {},
   "outputs": [
    {
     "name": "stdout",
     "output_type": "stream",
     "text": [
      "The best parameters is {'alpha': 0.01, 'hidden_layer_sizes': (8, 4), 'learning_rate': 'invscaling'}\n",
      "score of parameter is 0.321032175640717\n"
     ]
    },
    {
     "name": "stderr",
     "output_type": "stream",
     "text": [
      "D:\\Anaconda\\envs\\machine\\lib\\site-packages\\sklearn\\neural_network\\_multilayer_perceptron.py:692: ConvergenceWarning: Stochastic Optimizer: Maximum iterations (200) reached and the optimization hasn't converged yet.\n",
      "  warnings.warn(\n"
     ]
    }
   ],
   "source": [
    "# 2 mlp\n",
    "from sklearn.model_selection import GridSearchCV\n",
    "from sklearn.neural_network import MLPRegressor\n",
    "\n",
    "param_grid = [{\n",
    "    'hidden_layer_sizes': [(8,2),(8,3),(8,4),(8)],\n",
    "    'alpha':[0.0001,0.001,0.01,0.1,1,10,100],\n",
    "    'learning_rate':['invscaling','constant']\n",
    "}]\n",
    "\n",
    "# hideen layer 采用（输入+输出）*2/3，参考https://stackoverflow.com/questions/10565868/multi-layer-perceptron-mlp-architecture-criteria-for-choosing-number-of-hidde\n",
    "mpl_reg = MLPRegressor()\n",
    "mpl_search = GridSearchCV(mpl_reg, param_grid,n_jobs=-1)\n",
    "mpl_search.fit(xs_train, ys_train)\n",
    "\n",
    "print(\"The best parameters is\",mpl_search.best_params_)\n",
    "print('score of parameter is',mpl_search.best_score_)"
   ]
  },
  {
   "cell_type": "code",
   "execution_count": 13,
   "metadata": {},
   "outputs": [
    {
     "name": "stdout",
     "output_type": "stream",
     "text": [
      "Train score of kNN trian set 0.3390181821109304\n",
      "Test score of kNN test set 0.3099347245952391 \n",
      "\n",
      "Train mean error of kNN trian set 0.5470493057662941\n",
      "Test mean error of kNN test set 0.6088465122003457 \n",
      "\n",
      "Train R2 of kNN trian set 0.3387640565781517\n",
      "Test R2 error of kNN test set 0.302430996508374\n"
     ]
    },
    {
     "name": "stderr",
     "output_type": "stream",
     "text": [
      "D:\\Anaconda\\envs\\machine\\lib\\site-packages\\sklearn\\neural_network\\_multilayer_perceptron.py:692: ConvergenceWarning: Stochastic Optimizer: Maximum iterations (200) reached and the optimization hasn't converged yet.\n",
      "  warnings.warn(\n"
     ]
    }
   ],
   "source": [
    "from sklearn.neural_network import MLPRegressor\n",
    "\n",
    "mpl_reg = MLPRegressor(hidden_layer_sizes=(8, 4), alpha=0.01, learning_rate='invscaling')\n",
    "\n",
    "mpl_reg.fit(xs_train, ys_train)\n",
    "\n",
    "ys_train_pred = mpl_reg.predict(xs_train)\n",
    "ys_test_pred = mpl_reg.predict(xs_test)\n",
    "\n",
    "import fit_result\n",
    "fit_result.score(ys_train, ys_train_pred,ys_test, ys_test_pred)"
   ]
  },
  {
   "cell_type": "code",
   "execution_count": 14,
   "metadata": {},
   "outputs": [
    {
     "name": "stdout",
     "output_type": "stream",
     "text": [
      "knn time:  3.636304998397827\n",
      "knn variance score:  0.2052148748107129\n",
      "knn r2:  -1.025865635065205 \n",
      "\n"
     ]
    }
   ],
   "source": [
    "from sklearn.model_selection import cross_validate\n",
    "mpl_result=cross_validate(mpl_reg,xs,ys,cv=10,n_jobs=-1,scoring=('explained_variance','r2'))\n",
    "\n",
    "print('time: ',mpl_result['fit_time'].mean())\n",
    "print('variance score: ',mpl_result['test_explained_variance'].mean())\n",
    "print('r2: ',mpl_result['test_r2'].mean(),'\\n')"
   ]
  }
 ],
 "metadata": {
  "interpreter": {
   "hash": "3241565c77375f7d3295c2caf706c572c6b79d0b2e7d0d156f0cd07598ad6b7b"
  },
  "kernelspec": {
   "display_name": "Python 3.8.12 ('machine')",
   "language": "python",
   "name": "python3"
  },
  "language_info": {
   "codemirror_mode": {
    "name": "ipython",
    "version": 3
   },
   "file_extension": ".py",
   "mimetype": "text/x-python",
   "name": "python",
   "nbconvert_exporter": "python",
   "pygments_lexer": "ipython3",
   "version": "3.8.12"
  },
  "orig_nbformat": 4
 },
 "nbformat": 4,
 "nbformat_minor": 2
}
